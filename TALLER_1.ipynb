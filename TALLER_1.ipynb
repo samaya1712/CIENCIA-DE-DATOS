{
  "nbformat": 4,
  "nbformat_minor": 0,
  "metadata": {
    "colab": {
      "provenance": []
    },
    "kernelspec": {
      "name": "python3",
      "display_name": "Python 3"
    },
    "language_info": {
      "name": "python"
    }
  },
  "cells": [
    {
      "cell_type": "markdown",
      "source": [
        "#Introduccion a Python\n",
        "\n"
      ],
      "metadata": {
        "id": "c7t5rVksJvkM"
      }
    },
    {
      "cell_type": "markdown",
      "source": [
        "## 1. Tipo de datos\n",
        "* Numerico (int=enteros, float=decimales)\n",
        "* Booleanos (TRUE - verdadero, FALSE - falso)\n",
        "* Alfanumericos o cadena de caracteres (\"son todos aquellos que se encuetran entre comillas\". Se conoce como tipo string)\n",
        "* Listas ([])\n",
        "* Duplas ()\n",
        "* Diccionarios ({})\n",
        "\n",
        "Comando type(): Com que tipo de datos estamos manejando"
      ],
      "metadata": {
        "id": "mZO6MH31KZTz"
      }
    },
    {
      "cell_type": "markdown",
      "source": [],
      "metadata": {
        "id": "k3vqnd7gL_aq"
      }
    },
    {
      "cell_type": "code",
      "execution_count": null,
      "metadata": {
        "colab": {
          "base_uri": "https://localhost:8080/"
        },
        "id": "eBUjTTUFJVKu",
        "outputId": "3dc930de-0549-49a9-e5c1-967713bd61bd"
      },
      "outputs": [
        {
          "output_type": "execute_result",
          "data": {
            "text/plain": [
              "int"
            ]
          },
          "metadata": {},
          "execution_count": 2
        }
      ],
      "source": [
        "a=5+3*4\n",
        "type(a)"
      ]
    },
    {
      "cell_type": "code",
      "source": [
        "##Print es una funcion que me permite imprimir el resultado\n",
        "print(f\"5+3*4={5+3*4} y es un valor de tipo {type(5+3*4)}\")"
      ],
      "metadata": {
        "colab": {
          "base_uri": "https://localhost:8080/"
        },
        "id": "C4sCE9g1MjDq",
        "outputId": "cf12d257-c6a1-4b91-c77c-ab17a5554f1c"
      },
      "execution_count": null,
      "outputs": [
        {
          "output_type": "stream",
          "name": "stdout",
          "text": [
            "5+3*4=17 y es un valor de tipo <class 'int'>\n"
          ]
        }
      ]
    },
    {
      "cell_type": "code",
      "source": [
        "\"5\"+\"2\"*3"
      ],
      "metadata": {
        "colab": {
          "base_uri": "https://localhost:8080/",
          "height": 36
        },
        "id": "UcYwUz3dNNmB",
        "outputId": "74a6c6f0-5791-4997-96eb-5fd4c0509f55"
      },
      "execution_count": null,
      "outputs": [
        {
          "output_type": "execute_result",
          "data": {
            "text/plain": [
              "'5222'"
            ],
            "application/vnd.google.colaboratory.intrinsic+json": {
              "type": "string"
            }
          },
          "metadata": {},
          "execution_count": 5
        }
      ]
    },
    {
      "cell_type": "code",
      "source": [
        "type(\"5\"+\"2\"*3)"
      ],
      "metadata": {
        "colab": {
          "base_uri": "https://localhost:8080/"
        },
        "id": "HGXfIJHnNxlo",
        "outputId": "62f910ef-84fd-475c-df9e-1311814aae33"
      },
      "execution_count": null,
      "outputs": [
        {
          "output_type": "execute_result",
          "data": {
            "text/plain": [
              "str"
            ]
          },
          "metadata": {},
          "execution_count": 6
        }
      ]
    },
    {
      "cell_type": "code",
      "source": [
        "print(f'\"5\"+\"2\"*3\"={\"5\"+\"2\"*3} y es un valor de tipo {type(\"5\"+\"2\"*3)}')"
      ],
      "metadata": {
        "colab": {
          "base_uri": "https://localhost:8080/"
        },
        "id": "h2klhB90Nupw",
        "outputId": "65306837-f811-4346-a669-ed159ad91805"
      },
      "execution_count": null,
      "outputs": [
        {
          "output_type": "stream",
          "name": "stdout",
          "text": [
            "\"5\"+\"2\"*3\"=5222 y es un valor de tipo <class 'str'>\n"
          ]
        }
      ]
    },
    {
      "cell_type": "code",
      "source": [
        "2**11 #** potenciacion"
      ],
      "metadata": {
        "colab": {
          "base_uri": "https://localhost:8080/"
        },
        "id": "f65qngF5PDw2",
        "outputId": "2250e19d-57bb-402b-ea68-4f636bd40359"
      },
      "execution_count": null,
      "outputs": [
        {
          "output_type": "execute_result",
          "data": {
            "text/plain": [
              "2048"
            ]
          },
          "metadata": {},
          "execution_count": 12
        }
      ]
    },
    {
      "cell_type": "code",
      "source": [
        "2**11 == 1000"
      ],
      "metadata": {
        "colab": {
          "base_uri": "https://localhost:8080/"
        },
        "id": "jEeHvf5qPdb0",
        "outputId": "9064442b-bda2-4e7a-a75b-9db52ab2af9e"
      },
      "execution_count": null,
      "outputs": [
        {
          "output_type": "execute_result",
          "data": {
            "text/plain": [
              "False"
            ]
          },
          "metadata": {},
          "execution_count": 13
        }
      ]
    },
    {
      "cell_type": "code",
      "source": [
        "2 ** 9 == 100"
      ],
      "metadata": {
        "colab": {
          "base_uri": "https://localhost:8080/"
        },
        "id": "STIGPT7pPi6k",
        "outputId": "38734527-ab25-43f2-a5b3-77033596a023"
      },
      "execution_count": null,
      "outputs": [
        {
          "output_type": "execute_result",
          "data": {
            "text/plain": [
              "False"
            ]
          },
          "metadata": {},
          "execution_count": 15
        }
      ]
    },
    {
      "cell_type": "code",
      "source": [
        "## operadores logicos\n",
        "##y - and: CONJUNCION. Algo es verdadero, si ambas preposiciones son verdaderas\n",
        "##o -or: DISYUNCION: Una presposicion es verdadera, si ambas preposiciones son verdaderas\n",
        "##no - not: NEGACION: Altera el valorde verdad de la preposicion\n",
        "2 ** 11 == 1000 or 2 ** 9 == 100"
      ],
      "metadata": {
        "colab": {
          "base_uri": "https://localhost:8080/"
        },
        "id": "4rKZFZd7PqG1",
        "outputId": "8b19d118-8bc3-402f-995a-03dcef881432"
      },
      "execution_count": null,
      "outputs": [
        {
          "output_type": "execute_result",
          "data": {
            "text/plain": [
              "False"
            ]
          },
          "metadata": {},
          "execution_count": 17
        }
      ]
    },
    {
      "cell_type": "code",
      "source": [
        "## = asignar. == COMPARAR\n",
        "type(2** 11 == 1000 or 2 ** 9 == 100)"
      ],
      "metadata": {
        "colab": {
          "base_uri": "https://localhost:8080/"
        },
        "id": "4VMVrshoQgIJ",
        "outputId": "b06ec791-5dff-4ce6-d70c-a077fea685ce"
      },
      "execution_count": null,
      "outputs": [
        {
          "output_type": "execute_result",
          "data": {
            "text/plain": [
              "bool"
            ]
          },
          "metadata": {},
          "execution_count": 21
        }
      ]
    },
    {
      "cell_type": "code",
      "source": [
        "print(f\"2** 11 == 1000 or 2 ** 9 == 100={2** 11 == 1000 or 2 ** 9 == 100} y es un valor de tipo {type(2** 11 == 1000 or 2 ** 9 == 100)}\")"
      ],
      "metadata": {
        "colab": {
          "base_uri": "https://localhost:8080/"
        },
        "id": "S_z1Y14dQy71",
        "outputId": "8b9a32fb-49ec-4196-d2e7-ed25d240a329"
      },
      "execution_count": null,
      "outputs": [
        {
          "output_type": "stream",
          "name": "stdout",
          "text": [
            "2** 11 == 1000 or 2 ** 9 == 100=False y es un valor de tipo <class 'bool'>\n"
          ]
        }
      ]
    },
    {
      "cell_type": "code",
      "source": [
        "int(\"cincuenta\")"
      ],
      "metadata": {
        "colab": {
          "base_uri": "https://localhost:8080/",
          "height": 147
        },
        "id": "jE3Sts09Ri4l",
        "outputId": "98575e1a-3445-4a10-c208-e3ebe2ecf776"
      },
      "execution_count": null,
      "outputs": [
        {
          "output_type": "error",
          "ename": "ValueError",
          "evalue": "invalid literal for int() with base 10: 'cincuenta'",
          "traceback": [
            "\u001b[0;31m---------------------------------------------------------------------------\u001b[0m",
            "\u001b[0;31mValueError\u001b[0m                                Traceback (most recent call last)",
            "\u001b[0;32m<ipython-input-22-a15ff880c080>\u001b[0m in \u001b[0;36m<cell line: 1>\u001b[0;34m()\u001b[0m\n\u001b[0;32m----> 1\u001b[0;31m \u001b[0mint\u001b[0m\u001b[0;34m(\u001b[0m\u001b[0;34m\"cincuenta\"\u001b[0m\u001b[0;34m)\u001b[0m\u001b[0;34m\u001b[0m\u001b[0;34m\u001b[0m\u001b[0m\n\u001b[0m",
            "\u001b[0;31mValueError\u001b[0m: invalid literal for int() with base 10: 'cincuenta'"
          ]
        }
      ]
    },
    {
      "cell_type": "code",
      "source": [
        "int(\"50\")"
      ],
      "metadata": {
        "colab": {
          "base_uri": "https://localhost:8080/"
        },
        "id": "pvep_fQgRrRD",
        "outputId": "d5141e0f-b5b4-48b1-fc19-0921219da687"
      },
      "execution_count": null,
      "outputs": [
        {
          "output_type": "execute_result",
          "data": {
            "text/plain": [
              "50"
            ]
          },
          "metadata": {},
          "execution_count": 23
        }
      ]
    },
    {
      "cell_type": "code",
      "source": [
        "type(16/16 + 384/24)"
      ],
      "metadata": {
        "colab": {
          "base_uri": "https://localhost:8080/"
        },
        "id": "8EeRlygnR12m",
        "outputId": "70edb364-55a5-4715-a922-e1b6dff310eb"
      },
      "execution_count": null,
      "outputs": [
        {
          "output_type": "execute_result",
          "data": {
            "text/plain": [
              "float"
            ]
          },
          "metadata": {},
          "execution_count": 27
        }
      ]
    },
    {
      "cell_type": "code",
      "source": [
        "print(f\"16/16 + 384/24={16/16 + 384/24} y es un valor de tipo {type(16/16 + 384/24)}\")"
      ],
      "metadata": {
        "colab": {
          "base_uri": "https://localhost:8080/"
        },
        "id": "zB9DNfATSSz9",
        "outputId": "37d3a527-2d9d-4731-ae18-b0afad513b46"
      },
      "execution_count": null,
      "outputs": [
        {
          "output_type": "stream",
          "name": "stdout",
          "text": [
            "16/16 + 384/24=17.0 y es un valor de tipo <class 'float'>\n"
          ]
        }
      ]
    },
    {
      "cell_type": "code",
      "source": [
        "#El porcentaje en python es modulo\n",
        "600 + 18%2"
      ],
      "metadata": {
        "colab": {
          "base_uri": "https://localhost:8080/"
        },
        "id": "xICyhj28Sy6d",
        "outputId": "8db316f1-64e1-47a6-c0a1-680ff36190bb"
      },
      "execution_count": null,
      "outputs": [
        {
          "output_type": "execute_result",
          "data": {
            "text/plain": [
              "600"
            ]
          },
          "metadata": {},
          "execution_count": 30
        }
      ]
    },
    {
      "cell_type": "code",
      "source": [
        "0 < (4096 % 10) < 6"
      ],
      "metadata": {
        "colab": {
          "base_uri": "https://localhost:8080/"
        },
        "id": "IhJlpsONThcs",
        "outputId": "ebd6506f-86cf-4147-d931-cd685d027152"
      },
      "execution_count": null,
      "outputs": [
        {
          "output_type": "execute_result",
          "data": {
            "text/plain": [
              "False"
            ]
          },
          "metadata": {},
          "execution_count": 31
        }
      ]
    },
    {
      "cell_type": "code",
      "source": [
        "print(f\"0 < (4096 % 10) < 6={0 < (4096 % 10) < 6} y es un valor de tipo {type(0 < (4096 % 10) < 6)}\")"
      ],
      "metadata": {
        "colab": {
          "base_uri": "https://localhost:8080/"
        },
        "id": "5usrvKucTtQh",
        "outputId": "3a68e0e3-a9a3-4543-8cec-98f99ebe5219"
      },
      "execution_count": null,
      "outputs": [
        {
          "output_type": "stream",
          "name": "stdout",
          "text": [
            "0 < (4096 % 10) < 6=False y es un valor de tipo <class 'bool'>\n"
          ]
        }
      ]
    },
    {
      "cell_type": "code",
      "source": [
        "# Suma de dos string. Cuando se suman dos string, se unen (Concatenacion)\n",
        "'Max'+'Min'"
      ],
      "metadata": {
        "colab": {
          "base_uri": "https://localhost:8080/",
          "height": 36
        },
        "id": "P_oubSzCT1xx",
        "outputId": "b2d5d78a-4beb-4284-aa26-807ecd2a2cb3"
      },
      "execution_count": null,
      "outputs": [
        {
          "output_type": "execute_result",
          "data": {
            "text/plain": [
              "'MaxMin'"
            ],
            "application/vnd.google.colaboratory.intrinsic+json": {
              "type": "string"
            }
          },
          "metadata": {},
          "execution_count": 33
        }
      ]
    },
    {
      "cell_type": "code",
      "source": [
        "print(f\"'Max'+'Min'={'Max'+'Min'} y es un valor de tipo {type('Max'+'Min')}\")"
      ],
      "metadata": {
        "colab": {
          "base_uri": "https://localhost:8080/"
        },
        "id": "sdAGjAQpT-0D",
        "outputId": "d300708f-11b0-4f00-966a-b007fde6807a"
      },
      "execution_count": null,
      "outputs": [
        {
          "output_type": "stream",
          "name": "stdout",
          "text": [
            "'Max'+'Min'=MaxMin y es un valor de tipo <class 'str'>\n"
          ]
        }
      ]
    },
    {
      "cell_type": "code",
      "source": [
        "# Error porque la funcion ABC() y DEF() no esta definida\n",
        "ABC() * DEF()"
      ],
      "metadata": {
        "colab": {
          "base_uri": "https://localhost:8080/",
          "height": 147
        },
        "id": "5muBPd-jUoUK",
        "outputId": "6c0f3c24-86d1-40e6-f274-1ac6d6477330"
      },
      "execution_count": null,
      "outputs": [
        {
          "output_type": "error",
          "ename": "NameError",
          "evalue": "name 'ABC' is not defined",
          "traceback": [
            "\u001b[0;31m---------------------------------------------------------------------------\u001b[0m",
            "\u001b[0;31mNameError\u001b[0m                                 Traceback (most recent call last)",
            "\u001b[0;32m<ipython-input-36-b03c5ee783c9>\u001b[0m in \u001b[0;36m<cell line: 1>\u001b[0;34m()\u001b[0m\n\u001b[0;32m----> 1\u001b[0;31m \u001b[0mABC\u001b[0m\u001b[0;34m(\u001b[0m\u001b[0;34m)\u001b[0m \u001b[0;34m*\u001b[0m \u001b[0mDEF\u001b[0m\u001b[0;34m(\u001b[0m\u001b[0;34m)\u001b[0m\u001b[0;34m\u001b[0m\u001b[0;34m\u001b[0m\u001b[0m\n\u001b[0m",
            "\u001b[0;31mNameError\u001b[0m: name 'ABC' is not defined"
          ]
        }
      ]
    },
    {
      "cell_type": "code",
      "source": [
        "float(-int(\"7\")+int('90))"
      ],
      "metadata": {
        "colab": {
          "base_uri": "https://localhost:8080/",
          "height": 110
        },
        "id": "nPL_cYciU_9A",
        "outputId": "f16e26b8-5094-448d-ac18-96a186302fd5"
      },
      "execution_count": null,
      "outputs": [
        {
          "output_type": "error",
          "ename": "SyntaxError",
          "evalue": "unterminated string literal (detected at line 1) (<ipython-input-38-c81e33bedfc5>, line 1)",
          "traceback": [
            "\u001b[0;36m  File \u001b[0;32m\"<ipython-input-38-c81e33bedfc5>\"\u001b[0;36m, line \u001b[0;32m1\u001b[0m\n\u001b[0;31m    float(-int(\"7\")+int('90))\u001b[0m\n\u001b[0m                        ^\u001b[0m\n\u001b[0;31mSyntaxError\u001b[0m\u001b[0;31m:\u001b[0m unterminated string literal (detected at line 1)\n"
          ]
        }
      ]
    },
    {
      "cell_type": "code",
      "source": [
        "#abs: funcion que calcula el valor absoluto. Ej: abs(-8)=8\n",
        "#len: funcion que cuenta cuantos caracteres  tiene la cadena. Ej: len(\"seis\")=4\n",
        "abs(len('seis') - len('tres'))"
      ],
      "metadata": {
        "colab": {
          "base_uri": "https://localhost:8080/"
        },
        "id": "-nplTJgkVf6D",
        "outputId": "97de23e8-baa5-4460-e4b3-8a390ba37fe5"
      },
      "execution_count": null,
      "outputs": [
        {
          "output_type": "execute_result",
          "data": {
            "text/plain": [
              "0"
            ]
          },
          "metadata": {},
          "execution_count": 39
        }
      ]
    },
    {
      "cell_type": "code",
      "source": [
        "print(f\"len('seis') - len('tres')={len('seis') - len('tres')} y es un valor de tipo {type(len('seis') - len('tres'))}\")"
      ],
      "metadata": {
        "colab": {
          "base_uri": "https://localhost:8080/"
        },
        "id": "e0SoR9K5We8q",
        "outputId": "395d7c99-39ab-4237-c844-aa3ccabf1d9d"
      },
      "execution_count": null,
      "outputs": [
        {
          "output_type": "stream",
          "name": "stdout",
          "text": [
            "len('seis') - len('tres')=0 y es un valor de tipo <class 'int'>\n"
          ]
        }
      ]
    },
    {
      "cell_type": "code",
      "source": [
        "#Cualquier numero (que no sea el 0) al convertirse en booleano da true\n",
        "bool(1210) or bool(-3465)"
      ],
      "metadata": {
        "colab": {
          "base_uri": "https://localhost:8080/"
        },
        "id": "xm56qyR6X0pY",
        "outputId": "70551f44-153e-4fc6-e281-910de413223f"
      },
      "execution_count": null,
      "outputs": [
        {
          "output_type": "execute_result",
          "data": {
            "text/plain": [
              "True"
            ]
          },
          "metadata": {},
          "execution_count": 42
        }
      ]
    },
    {
      "cell_type": "code",
      "source": [
        "float(str(int('8' * 3) / 3)[3])"
      ],
      "metadata": {
        "colab": {
          "base_uri": "https://localhost:8080/",
          "height": 147
        },
        "id": "77bNBoaqYoad",
        "outputId": "7254e471-a484-4fd5-9939-b4ed94b0c233"
      },
      "execution_count": null,
      "outputs": [
        {
          "output_type": "error",
          "ename": "ValueError",
          "evalue": "could not convert string to float: '.'",
          "traceback": [
            "\u001b[0;31m---------------------------------------------------------------------------\u001b[0m",
            "\u001b[0;31mValueError\u001b[0m                                Traceback (most recent call last)",
            "\u001b[0;32m<ipython-input-45-bafabcb87d9b>\u001b[0m in \u001b[0;36m<cell line: 1>\u001b[0;34m()\u001b[0m\n\u001b[0;32m----> 1\u001b[0;31m \u001b[0mfloat\u001b[0m\u001b[0;34m(\u001b[0m\u001b[0mstr\u001b[0m\u001b[0;34m(\u001b[0m\u001b[0mint\u001b[0m\u001b[0;34m(\u001b[0m\u001b[0;34m'8'\u001b[0m \u001b[0;34m*\u001b[0m \u001b[0;36m3\u001b[0m\u001b[0;34m)\u001b[0m \u001b[0;34m/\u001b[0m \u001b[0;36m3\u001b[0m\u001b[0;34m)\u001b[0m\u001b[0;34m[\u001b[0m\u001b[0;36m3\u001b[0m\u001b[0;34m]\u001b[0m\u001b[0;34m)\u001b[0m\u001b[0;34m\u001b[0m\u001b[0;34m\u001b[0m\u001b[0m\n\u001b[0m",
            "\u001b[0;31mValueError\u001b[0m: could not convert string to float: '.'"
          ]
        }
      ]
    },
    {
      "cell_type": "code",
      "source": [
        "int('8' * 3) / 3"
      ],
      "metadata": {
        "colab": {
          "base_uri": "https://localhost:8080/"
        },
        "id": "aBk99yw8ZVI-",
        "outputId": "d503e4fb-8bb7-4696-ecac-b6ca2ff50fab"
      },
      "execution_count": null,
      "outputs": [
        {
          "output_type": "execute_result",
          "data": {
            "text/plain": [
              "296.0"
            ]
          },
          "metadata": {},
          "execution_count": 46
        }
      ]
    },
    {
      "cell_type": "code",
      "source": [
        "#De una cadena de caracteres, estoy tomando el que esta en la posicion 3 (contando desde cero)\n",
        "str(int('8' * 3) / 3)[3]"
      ],
      "metadata": {
        "colab": {
          "base_uri": "https://localhost:8080/",
          "height": 36
        },
        "id": "SvNS9O3BZatv",
        "outputId": "a578f086-7e0f-4f67-e5b6-6f70bf9c9e0e"
      },
      "execution_count": null,
      "outputs": [
        {
          "output_type": "execute_result",
          "data": {
            "text/plain": [
              "'.'"
            ],
            "application/vnd.google.colaboratory.intrinsic+json": {
              "type": "string"
            }
          },
          "metadata": {},
          "execution_count": 47
        }
      ]
    },
    {
      "cell_type": "code",
      "source": [
        "print(\"David Amaya - 12 de Agosto de 2024\")"
      ],
      "metadata": {
        "colab": {
          "base_uri": "https://localhost:8080/"
        },
        "id": "f-qNE5hZZ0gf",
        "outputId": "1c421894-e2fc-4013-8032-11c9086e998e"
      },
      "execution_count": null,
      "outputs": [
        {
          "output_type": "stream",
          "name": "stdout",
          "text": [
            "David Amaya - 12 de Agosto de 2024\n"
          ]
        }
      ]
    },
    {
      "cell_type": "code",
      "source": [
        "#Input es una funcion que te permite almacenar una respuesta relacionada con lo que esta dentro del parentesis\n",
        "a=input(\"Cual es tu nombre?\")"
      ],
      "metadata": {
        "colab": {
          "base_uri": "https://localhost:8080/"
        },
        "id": "DIAURXBFbc5G",
        "outputId": "9f8b086b-c89d-42b9-c226-b682636c557a"
      },
      "execution_count": null,
      "outputs": [
        {
          "name": "stdout",
          "output_type": "stream",
          "text": [
            "Cual es tu nombre?David\n"
          ]
        }
      ]
    },
    {
      "cell_type": "code",
      "source": [
        "a"
      ],
      "metadata": {
        "colab": {
          "base_uri": "https://localhost:8080/",
          "height": 36
        },
        "id": "gcatRi-2bzMF",
        "outputId": "870d8522-0424-4a9d-cc83-dee4917b2745"
      },
      "execution_count": null,
      "outputs": [
        {
          "output_type": "execute_result",
          "data": {
            "text/plain": [
              "'David'"
            ],
            "application/vnd.google.colaboratory.intrinsic+json": {
              "type": "string"
            }
          },
          "metadata": {},
          "execution_count": 52
        }
      ]
    },
    {
      "cell_type": "code",
      "source": [
        "print(f\" Hola {a}, Como estas?\")"
      ],
      "metadata": {
        "colab": {
          "base_uri": "https://localhost:8080/"
        },
        "id": "DU3EQTWIb3Xs",
        "outputId": "f3e42a03-127d-416a-f418-c04f45cdb9d7"
      },
      "execution_count": null,
      "outputs": [
        {
          "output_type": "stream",
          "name": "stdout",
          "text": [
            " Hola David, Como estas?\n"
          ]
        }
      ]
    },
    {
      "cell_type": "code",
      "source": [
        "radio = float(input(\"Ingrese el radio del círculo: \"))"
      ],
      "metadata": {
        "colab": {
          "base_uri": "https://localhost:8080/"
        },
        "id": "8Wu8-c8gddZe",
        "outputId": "1c2989a5-dea2-4192-9ec0-bc9779b1fccb"
      },
      "execution_count": null,
      "outputs": [
        {
          "name": "stdout",
          "output_type": "stream",
          "text": [
            "Ingrese el radio del círculo: 8\n"
          ]
        }
      ]
    },
    {
      "cell_type": "code",
      "source": [
        "Diametro = 2 * radio\n",
        "Perimetro = 2 * 3.14 * radio\n",
        "Area = 3.14 * radio ** 2"
      ],
      "metadata": {
        "id": "P41_SZqleP8C"
      },
      "execution_count": null,
      "outputs": []
    },
    {
      "cell_type": "code",
      "source": [
        "print(f\"El circulo de radio 8 tiene diametro = {Diametro} , perimetro = {Perimetro} y el area = {Area}\")"
      ],
      "metadata": {
        "colab": {
          "base_uri": "https://localhost:8080/"
        },
        "id": "jQNz9dWZep1k",
        "outputId": "c35ef9e2-f7de-42cd-998e-674ef84830cd"
      },
      "execution_count": null,
      "outputs": [
        {
          "output_type": "stream",
          "name": "stdout",
          "text": [
            "El circulo de radio 8 tiene diametro = 16.0 , perimetro = 50.24 y el area = 200.96\n"
          ]
        }
      ]
    },
    {
      "cell_type": "markdown",
      "source": [
        "## **TAREA**\n"
      ],
      "metadata": {
        "id": "ktcBTsOvebmD"
      }
    },
    {
      "cell_type": "code",
      "source": [
        "# Solicitar 6 notas al usuario\n",
        "notas = []\n",
        "for i in range(6):\n",
        "    nota = float(input(f\"Ingrese la nota {i+1}: \"))\n",
        "    notas.append(nota)\n",
        "\n",
        "# Calcular el promedio\n",
        "promedio = sum(notas) / len(notas)\n",
        "\n",
        "# Imprimir el promedio\n",
        "print(f\"El promedio es: {promedio}\")"
      ],
      "metadata": {
        "colab": {
          "base_uri": "https://localhost:8080/"
        },
        "id": "irHTokKvT1pe",
        "outputId": "91299bea-4e05-4489-f3bd-12fd36631ef9"
      },
      "execution_count": null,
      "outputs": [
        {
          "output_type": "stream",
          "name": "stdout",
          "text": [
            "Ingrese la nota 1: 2.5\n",
            "Ingrese la nota 2: 3\n",
            "Ingrese la nota 3: 4.5\n",
            "Ingrese la nota 4: 2.8\n",
            "Ingrese la nota 5: 4\n",
            "Ingrese la nota 6: 5\n",
            "El promedio es: 3.6333333333333333\n"
          ]
        }
      ]
    },
    {
      "cell_type": "code",
      "source": [
        "# Solicitar un valor al usuario\n",
        "valor = input(\"Ingrese un valor: \")\n",
        "\n",
        "# Determinar el tipo de dato\n",
        "try:\n",
        "    valor_int = int(valor)\n",
        "    print(\"El tipo de dato es: int\")\n",
        "except ValueError:\n",
        "    try:\n",
        "        valor_float = float(valor)\n",
        "        print(\"El tipo de dato es: float\")\n",
        "    except ValueError:\n",
        "        if valor.lower() == 'true' or valor.lower() == 'false':\n",
        "            print(\"El tipo de dato es: bool\")\n",
        "        else:\n",
        "            print(\"El tipo de dato es: str\")\n"
      ],
      "metadata": {
        "colab": {
          "base_uri": "https://localhost:8080/"
        },
        "id": "ldSbIPs5UrYi",
        "outputId": "10b270bb-035c-41bc-84ff-dd0f6cc7299e"
      },
      "execution_count": null,
      "outputs": [
        {
          "output_type": "stream",
          "name": "stdout",
          "text": [
            "Ingrese un valor: hola\n",
            "El tipo de dato es: str\n"
          ]
        }
      ]
    },
    {
      "cell_type": "code",
      "source": [
        "# Resolver la ecuación\n",
        "resultado = ((5 + 3) / (3 - 2)) ** 2\n",
        "\n",
        "# Imprimir el resultado\n",
        "print(\"El resultado de la ecuación es:\", resultado)\n"
      ],
      "metadata": {
        "colab": {
          "base_uri": "https://localhost:8080/"
        },
        "id": "kMrFN5-NVIrS",
        "outputId": "692fea4d-6392-40ae-d70f-2d940328cefc"
      },
      "execution_count": null,
      "outputs": [
        {
          "output_type": "stream",
          "name": "stdout",
          "text": [
            "El resultado de la ecuación es: 64.0\n"
          ]
        }
      ]
    },
    {
      "cell_type": "code",
      "source": [
        "# Solicitar número de horas trabajadas\n",
        "horas_trabajadas = float(input(\"Ingrese el número de horas trabajadas: \"))\n",
        "\n",
        "# Solicitar el coste por hora\n",
        "coste_por_hora = float(input(\"Ingrese el coste por hora: \"))\n",
        "\n",
        "# Calcular el coste total\n",
        "coste_total = horas_trabajadas * coste_por_hora\n",
        "\n",
        "# Imprimir el valor calculado\n",
        "print(f\"El coste total es: {coste_total:.2f}\")\n"
      ],
      "metadata": {
        "colab": {
          "base_uri": "https://localhost:8080/"
        },
        "id": "bMCY6OjGWK0l",
        "outputId": "145572fa-bd23-4b24-d87a-49c70bb69367"
      },
      "execution_count": null,
      "outputs": [
        {
          "output_type": "stream",
          "name": "stdout",
          "text": [
            "Ingrese el número de horas trabajadas: 24\n",
            "Ingrese el coste por hora: 10000\n",
            "El coste total es: 240000.00\n"
          ]
        }
      ]
    },
    {
      "cell_type": "code",
      "source": [
        "def celsius_fahrenheit(celsius):\n",
        "    fahrenheit=(celsius*9/5)+32\n",
        "    return fahrenheit\n",
        "def celsius_kelvin(celsius):\n",
        "    kelvin=celsius+273.15\n",
        "    return kelvin\n",
        "celsius=float(input(\"Ingrese grados celsius \"))\n",
        "print(\"Los grados fahrenheit son \", celsius_fahrenheit(celsius))\n",
        "print(\"Los grados kelvin son \", celsius_kelvin(celsius))"
      ],
      "metadata": {
        "colab": {
          "base_uri": "https://localhost:8080/"
        },
        "id": "1DYDwmUPXSWX",
        "outputId": "30e03d83-0585-472f-8d91-7f506c507269"
      },
      "execution_count": null,
      "outputs": [
        {
          "output_type": "stream",
          "name": "stdout",
          "text": [
            "Ingrese grados celsius 38\n",
            "Los grados fahrenheit son  100.4\n",
            "Los grados kelvin son  311.15\n"
          ]
        }
      ]
    },
    {
      "cell_type": "code",
      "source": [
        "# Solicitar el primer número\n",
        "num1 = int(input(\"Ingrese el primer número: \"))\n",
        "\n",
        "# Solicitar el segundo número\n",
        "num2 = int(input(\"Ingrese el segundo número: \"))\n",
        "\n",
        "# Verificar si el segundo número es mayor\n",
        "if num2 > num1:\n",
        "    print(True)\n",
        "else:\n",
        "    print(False)\n"
      ],
      "metadata": {
        "colab": {
          "base_uri": "https://localhost:8080/"
        },
        "id": "J3MsL44RbFSN",
        "outputId": "f590b164-1347-4c4c-e240-286fe1470df9"
      },
      "execution_count": null,
      "outputs": [
        {
          "output_type": "stream",
          "name": "stdout",
          "text": [
            "Ingrese el primer número: 2\n",
            "Ingrese el segundo número: 3\n",
            "True\n"
          ]
        }
      ]
    },
    {
      "cell_type": "code",
      "source": [
        "# Solicitar el primer número\n",
        "num1 = int(input(\"Ingrese el primer número: \"))\n",
        "\n",
        "# Solicitar el segundo número\n",
        "num2 = int(input(\"Ingrese el segundo número: \"))\n",
        "\n",
        "# Verificar si el segundo número es mayor\n",
        "if num2 < num1:\n",
        "    print(True)\n",
        "else:\n",
        "    print(False)\n"
      ],
      "metadata": {
        "colab": {
          "base_uri": "https://localhost:8080/"
        },
        "id": "G8nhvspUbPHN",
        "outputId": "abf574ea-8c65-4a43-fd19-6b39e3060c68"
      },
      "execution_count": null,
      "outputs": [
        {
          "output_type": "stream",
          "name": "stdout",
          "text": [
            "Ingrese el primer número: 2\n",
            "Ingrese el segundo número: 3\n",
            "False\n"
          ]
        }
      ]
    },
    {
      "cell_type": "code",
      "source": [
        "# Solicitar la distancia en metros\n",
        "distancia = float(input(\"Ingrese la distancia en metros: \"))\n",
        "\n",
        "# Solicitar la velocidad en metros/segundo\n",
        "velocidad = float(input(\"Ingrese la velocidad en metros/segundo: \"))\n",
        "\n",
        "# Calcular el tiempo que se demora en recorrer la distancia\n",
        "tiempo = distancia / velocidad\n",
        "\n",
        "# Imprimir el tiempo en segundos\n",
        "print(f\"Tiempo: {tiempo} segundos\")\n"
      ],
      "metadata": {
        "colab": {
          "base_uri": "https://localhost:8080/"
        },
        "id": "hSEOeJPdb9rY",
        "outputId": "3dce73fb-f766-4ce3-be40-1717857ba073"
      },
      "execution_count": null,
      "outputs": [
        {
          "output_type": "stream",
          "name": "stdout",
          "text": [
            "Ingrese la distancia en metros: 20\n",
            "Ingrese la velocidad en metros/segundo: 10\n",
            "Tiempo: 2.0 segundos\n"
          ]
        }
      ]
    },
    {
      "cell_type": "code",
      "source": [
        "# Solicitar los valores de a, b y c\n",
        "a = float(input(\"Ingrese el valor de a: \"))\n",
        "b = float(input(\"Ingrese el valor de b: \"))\n",
        "c = float(input(\"Ingrese el valor de c: \"))\n",
        "\n",
        "# Calcular la expresión\n",
        "resultado = ((a + b) / c) ** 2 + ((a - b) / c) ** 2\n",
        "\n",
        "# Imprimir el resultado\n",
        "print(f\"El resultado de la expresión es: {resultado}\")\n"
      ],
      "metadata": {
        "colab": {
          "base_uri": "https://localhost:8080/"
        },
        "id": "rMgQ2nN4ceaj",
        "outputId": "fa09cd58-e464-4950-95f4-63eb1a2ddbb9"
      },
      "execution_count": null,
      "outputs": [
        {
          "output_type": "stream",
          "name": "stdout",
          "text": [
            "Ingrese el valor de a: 4\n",
            "Ingrese el valor de b: 6\n",
            "Ingrese el valor de c: 10\n",
            "El resultado de la expresión es: 1.04\n"
          ]
        }
      ]
    },
    {
      "cell_type": "code",
      "source": [
        "import math\n",
        "\n",
        "# Calcular la raíz cuadrada de un número\n",
        "numero = 16\n",
        "raiz_cuadrada = math.sqrt(numero)\n",
        "\n",
        "# Imprimir el resultado\n",
        "print(\"La raíz cuadrada de\", numero, \"es:\", raiz_cuadrada)\n"
      ],
      "metadata": {
        "colab": {
          "base_uri": "https://localhost:8080/"
        },
        "id": "jyXa12fFdC2f",
        "outputId": "21b41486-318c-4575-fa21-8cf686f71af9"
      },
      "execution_count": null,
      "outputs": [
        {
          "output_type": "stream",
          "name": "stdout",
          "text": [
            "La raíz cuadrada de 16 es: 4.0\n"
          ]
        }
      ]
    },
    {
      "cell_type": "code",
      "source": [
        "import math\n",
        "\n",
        "# Solicitar los valores de los catetos al usuario\n",
        "cateto_a = float(input(\"Ingrese el valor del cateto a: \"))\n",
        "cateto_b = float(input(\"Ingrese el valor del cateto b: \"))\n",
        "\n",
        "# Calcular la hipotenusa usando el teorema de Pitágoras\n",
        "hipotenusa = math.sqrt(cateto_a**2 + cateto_b**2)\n",
        "\n",
        "# Imprimir el resultado\n",
        "print(f\"Hipotenusa = {hipotenusa}\")\n"
      ],
      "metadata": {
        "colab": {
          "base_uri": "https://localhost:8080/"
        },
        "id": "uHFuXuLhd2sh",
        "outputId": "f1333e7f-fb6b-4b64-930f-ca6aa5b0c313"
      },
      "execution_count": null,
      "outputs": [
        {
          "output_type": "stream",
          "name": "stdout",
          "text": [
            "Ingrese el valor del cateto a: 10\n",
            "Ingrese el valor del cateto b: 12\n",
            "Hipotenusa = 15.620499351813308\n"
          ]
        }
      ]
    }
  ]
}